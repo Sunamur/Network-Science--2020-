{
 "cells": [
  {
   "cell_type": "markdown",
   "metadata": {},
   "source": [
    "# Page Rank and HITS\n",
    "\n",
    "_Deadline: 05.03.2019 at 23:59_"
   ]
  },
  {
   "cell_type": "code",
   "execution_count": null,
   "metadata": {},
   "outputs": [],
   "source": [
    "# Usual and mandatory stuff...\n",
    "\n",
    "%matplotlib inline\n",
    "import numpy as np\n",
    "import matplotlib.pyplot as plt\n",
    "import networkx as nx"
   ]
  },
  {
   "cell_type": "markdown",
   "metadata": {},
   "source": [
    "This lab will be playing with the algorithms Page Rank and HITS.\n",
    "\n",
    "## Task 1\n",
    "\n",
    "First, we shall look at our good friends from this karate club. Let us pick several values for coefficient $\\alpha$ and see what we get."
   ]
  },
  {
   "cell_type": "code",
   "execution_count": null,
   "metadata": {},
   "outputs": [],
   "source": [
    "G = nx.karate_club_graph()\n",
    "\n",
    "fig = plt.figure(1, figsize=(14,7))\n",
    "\n",
    "ax = plt.subplot(121) # Plotting PR for several alphas    \n",
    "alphas = np.arange(0, 1.1, 0.2)\n",
    "for alp in alphas:\n",
    "    pr = nx.pagerank(G, alpha=alp)\n",
    "    prval = pr.values()\n",
    "    ax.plot(prval, label='alpha {0:.2f}'.format(alp))\n",
    "ax.legend()\n",
    "\n",
    "ay = plt.subplot(122) # Plotting Degree centrality\n",
    "dc = list(nx.degree_centrality(G).values())\n",
    "ay.plot(dc, label=\"degree_centrality\")\n",
    "ay.legend()"
   ]
  },
  {
   "cell_type": "markdown",
   "metadata": {},
   "source": [
    "a) How can you normalize degree centrality so that it sums up to 1? Do it and plot all these on the same plot."
   ]
  },
  {
   "cell_type": "markdown",
   "metadata": {},
   "source": [
    "_This is where you explain what you do (click on this text to edit it)._"
   ]
  },
  {
   "cell_type": "code",
   "execution_count": null,
   "metadata": {},
   "outputs": [],
   "source": [
    "## This is where you do stuff !"
   ]
  },
  {
   "cell_type": "markdown",
   "metadata": {},
   "source": [
    "_And this is where you explain what you see and why._"
   ]
  },
  {
   "cell_type": "markdown",
   "metadata": {},
   "source": [
    "b) In order to see how fast it converges, we shall need to code our own Page Rank algorithm. Code a function ```mypagerank(G,alpha,k)``` which executes the power iteration $k$ times starting from the uniform distribution among nodes in the graph. It should return the list of page rank scores. Recall that\n",
    "$$ \\mathbf{p}^{t+1} = \\alpha (D^{-1}A)^{\\top}\\mathbf{p} + (1-\\alpha)\\frac{\\mathbf{e}}{n}, $$\n",
    "where $A$ is the adjacency matrix of $G$ and $D$ is the diagonal matrix made of degrees of vertices."
   ]
  },
  {
   "cell_type": "code",
   "execution_count": null,
   "metadata": {},
   "outputs": [],
   "source": [
    "## Reminder: A @ B computes the multiplication of matrices A and B.\n",
    "\n",
    "def mypagerank(G,alpha,k):\n",
    "    ## Fill this\n",
    "    return p"
   ]
  },
  {
   "cell_type": "markdown",
   "metadata": {},
   "source": [
    "Alright, let us see how it goes...\n",
    "\n",
    "c) Plot the results after 0 up to 10 iterations."
   ]
  },
  {
   "cell_type": "code",
   "execution_count": null,
   "metadata": {},
   "outputs": [],
   "source": [
    "fig = plt.figure(1, figsize=(7,7))\n",
    "ax = plt.subplot(111)    \n",
    "\n",
    "its = np.arange(0,10, 1)\n",
    "\n",
    "for it in its:\n",
    "    pr = mypagerank(G, 0.85, it)\n",
    "    prval = list(pr)\n",
    "    ax.plot(prval, label='{:d} iteration(s)'.format(it))\n",
    "    \n",
    "ax.legend()"
   ]
  },
  {
   "cell_type": "markdown",
   "metadata": {},
   "source": [
    "d) Pay attention to the order of colors. What do you observe? How can you explain it?"
   ]
  },
  {
   "cell_type": "markdown",
   "metadata": {},
   "source": [
    "_Your answer..._"
   ]
  },
  {
   "cell_type": "markdown",
   "metadata": {},
   "source": [
    "e) Plot Page Rank vs Degree Centrality for $\\alpha$ in $\\{0,0.5,1\\}$."
   ]
  },
  {
   "cell_type": "code",
   "execution_count": null,
   "metadata": {},
   "outputs": [],
   "source": [
    "fig = plt.figure(1, figsize=(15,5))\n",
    "\n",
    "d = nx.degree_centrality(G)\n",
    "d = d.values()\n",
    "\n",
    "ax = plt.subplot(131)    \n",
    "pr = nx.pagerank(G, alpha=0)\n",
    "pr = pr.values()\n",
    "ax.plot(d, pr, '+')\n",
    "\n",
    "ay = plt.subplot(132)    \n",
    "pr = nx.pagerank(G, alpha=0.5)\n",
    "pr = pr.values()\n",
    "ay.plot(d, pr, '+')\n",
    "\n",
    "az = plt.subplot(133)    \n",
    "pr = nx.pagerank(G, alpha=1)\n",
    "pr = pr.values()\n",
    "az.plot(d, pr, '+')\n"
   ]
  },
  {
   "cell_type": "markdown",
   "metadata": {},
   "source": [
    "## Task 2 \n",
    "\n",
    "Experiment several teleportation vectors on the coappearance network of characters in the novel _Les Misérables_ (V. Hugo). The graph is in the file `lesmis.gml`. It was compiled by Donald Knuth [1]. Try to focus on several famous characters (Valjean, Javert, Gavroche, Cosette), or use betweenness centrality (is degree centrality of interest here?) for the teleportation. Each time, draw the network induced by nodes with high page rank. What can you observe?\n",
    "\n",
    "\n",
    "[1] D. E. Knuth, _The Stanford GraphBase: A Platform for Combinatorial Computing_, Addison-Wesley, Reading, MA (1993)."
   ]
  },
  {
   "cell_type": "code",
   "execution_count": null,
   "metadata": {},
   "outputs": [],
   "source": [
    "## Do what you need."
   ]
  },
  {
   "cell_type": "markdown",
   "metadata": {},
   "source": [
    "## Task 3\n",
    "\n",
    "Let us now focus on larger networks. First let us read the network of political blogs."
   ]
  },
  {
   "cell_type": "code",
   "execution_count": null,
   "metadata": {},
   "outputs": [],
   "source": [
    "#Some arcs are multi and it prevents some algorithms to work. We thus simplify it.\n",
    "\n",
    "G = nx.read_gml('polblogs.gml')\n",
    "A = nx.adjacency_matrix(G)\n",
    "M = A.astype(bool).astype(int) #converts non-zero entries to True and then True to 1.\n",
    "H = nx.DiGraph(M)\n",
    "L = list(G)\n",
    "mapping={}\n",
    "for i in range(len(L)):\n",
    "    mapping[i]=L[i]\n",
    "Gsimp=nx.relabel_nodes(H,mapping) #relabel vertices with original names."
   ]
  },
  {
   "cell_type": "markdown",
   "metadata": {},
   "source": [
    "Run the HITS algorithm on `Gsimp` and plot the hubs score against the authorities score."
   ]
  },
  {
   "cell_type": "code",
   "execution_count": null,
   "metadata": {},
   "outputs": [],
   "source": [
    "(h, a) = nx.hits(Gsimp)"
   ]
  },
  {
   "cell_type": "code",
   "execution_count": null,
   "metadata": {},
   "outputs": [],
   "source": [
    "la = list(a.values())\n",
    "lh = list(h.values())\n",
    "plt.plot(lh,la, '+')\n",
    "plt.xlabel('Hubs')\n",
    "plt.ylabel('Auth')"
   ]
  },
  {
   "cell_type": "markdown",
   "metadata": {},
   "source": [
    "Vizualize top Authorities colored in blue with sizes proportional to A-value and their common Hubs coloured in green with size proportional to H-value."
   ]
  },
  {
   "cell_type": "code",
   "execution_count": null,
   "metadata": {},
   "outputs": [],
   "source": [
    "# Your code"
   ]
  }
 ],
 "metadata": {
  "kernelspec": {
   "display_name": "Python 3",
   "language": "python",
   "name": "python3"
  },
  "language_info": {
   "codemirror_mode": {
    "name": "ipython",
    "version": 3
   },
   "file_extension": ".py",
   "mimetype": "text/x-python",
   "name": "python",
   "nbconvert_exporter": "python",
   "pygments_lexer": "ipython3",
   "version": "3.7.0"
  }
 },
 "nbformat": 4,
 "nbformat_minor": 2
}
